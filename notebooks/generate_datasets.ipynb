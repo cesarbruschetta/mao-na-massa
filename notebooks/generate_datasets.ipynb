{
 "cells": [
  {
   "cell_type": "markdown",
   "metadata": {
    "colab_type": "text",
    "id": "XO0L0v1X65he"
   },
   "source": [
    "## Geração dos DataSets de Interações"
   ]
  },
  {
   "cell_type": "markdown",
   "metadata": {
    "colab_type": "text",
    "id": "wn2Q9KEH65hg"
   },
   "source": [
    "### Importação da bibliotecas"
   ]
  },
  {
   "cell_type": "code",
   "execution_count": 1,
   "metadata": {
    "colab": {},
    "colab_type": "code",
    "id": "UEXl3gFP65hh"
   },
   "outputs": [],
   "source": [
    "import pandas as pd\n",
    "import numpy as np\n",
    "\n",
    "from random import randrange, choice\n",
    "from datetime import datetime, timedelta"
   ]
  },
  {
   "cell_type": "markdown",
   "metadata": {
    "colab_type": "text",
    "id": "B-OtoPIp65hq"
   },
   "source": [
    "### Variaveis de configurações"
   ]
  },
  {
   "cell_type": "code",
   "execution_count": 2,
   "metadata": {
    "colab": {},
    "colab_type": "code",
    "id": "UVDx5-Ge65ht"
   },
   "outputs": [],
   "source": [
    "number_of_rows = 100000 # 100K\n",
    "VIEWED = 1\n",
    "\n",
    "columns_interactions = ['customer_id', 'product_id', 'action_id','timestamp']"
   ]
  },
  {
   "cell_type": "code",
   "execution_count": 3,
   "metadata": {},
   "outputs": [],
   "source": [
    "# Metodo para gerar a lista de datetime aleatorias\n",
    "\n",
    "def daterange(date1, date2):\n",
    "    for n in range(int((date2 - date1).total_seconds()) + 1):\n",
    "        yield date1 + timedelta(seconds=n)"
   ]
  },
  {
   "cell_type": "markdown",
   "metadata": {
    "colab_type": "text",
    "id": "INyXXXy865iC"
   },
   "source": [
    "### Gerando DataSet de Interações"
   ]
  },
  {
   "cell_type": "code",
   "execution_count": 4,
   "metadata": {
    "colab": {},
    "colab_type": "code",
    "id": "5ALflWO-65iE"
   },
   "outputs": [],
   "source": [
    "df_customers = pd.read_json('../../ecommerce/_data/customers.json', orient='records')\n",
    "df_products = pd.read_json('../../ecommerce/_data/products.json', orient='records')\n",
    "\n",
    "df_sample_customers = df_customers.sample(frac=0.7).reset_index(drop=True)\n",
    "\n",
    "end_dt = datetime.now()\n",
    "start_dt = end_dt - timedelta(days=1)\n",
    "\n",
    "range_date = list(daterange(start_dt, end_dt))"
   ]
  },
  {
   "cell_type": "code",
   "execution_count": 5,
   "metadata": {},
   "outputs": [],
   "source": [
    "df_interactions = pd.DataFrame(\n",
    "    columns=columns_interactions,\n",
    "    data=[\n",
    "        dict(\n",
    "            customer_id=df_sample_customers.sample().iloc[0]['uuid'],\n",
    "            product_id=df_products.sample().iloc[0]['sku'],\n",
    "            action_id=VIEWED,\n",
    "            timestamp=choice(range_date).timestamp()\n",
    "        ) for _ in np.arange(0, number_of_rows)]\n",
    ")\n",
    "\n",
    "# Persistindo dataset\n",
    "df_interactions.to_csv('../datasets/interactions.csv')"
   ]
  }
 ],
 "metadata": {
  "colab": {
   "collapsed_sections": [],
   "machine_shape": "hm",
   "name": "generate_datasets.ipynb",
   "provenance": [],
   "toc_visible": true
  },
  "kernelspec": {
   "display_name": "python-brasil",
   "language": "python",
   "name": "python-brasil"
  },
  "language_info": {
   "codemirror_mode": {
    "name": "ipython",
    "version": 3
   },
   "file_extension": ".py",
   "mimetype": "text/x-python",
   "name": "python",
   "nbconvert_exporter": "python",
   "pygments_lexer": "ipython3",
   "version": "3.7.7"
  }
 },
 "nbformat": 4,
 "nbformat_minor": 1
}
