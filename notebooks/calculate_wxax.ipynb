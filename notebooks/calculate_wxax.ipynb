{
 "cells": [
  {
   "cell_type": "markdown",
   "metadata": {},
   "source": [
    "## Calcular modelo de `Who X also X`\n",
    "Calculo do modelo de estudo paseado na interação de visualização de produtos num e-commerce, assim  criando um modelo de recomendação `quem-viu-tambem-viu`"
   ]
  },
  {
   "cell_type": "code",
   "execution_count": 1,
   "metadata": {},
   "outputs": [],
   "source": [
    "# Importação para carregar o Spark\n",
    "import findspark\n",
    "findspark.init()"
   ]
  },
  {
   "cell_type": "markdown",
   "metadata": {},
   "source": [
    "### Importação da bibliotecas\n"
   ]
  },
  {
   "cell_type": "code",
   "execution_count": 2,
   "metadata": {},
   "outputs": [],
   "source": [
    "import pandas as pd\n",
    "\n",
    "from pyspark.sql.functions import *\n",
    "from pyspark.sql import SparkSession\n",
    " \n",
    "from pyspark.sql.types import DoubleType\n",
    "from pyspark.sql.window import Window\n",
    "\n",
    "spark = (\n",
    "    SparkSession.builder\\\n",
    "    .master(\"local\")\n",
    "    .appName(\"bart-calcullate-wxax\")\\\n",
    "    .getOrCreate()\n",
    ")"
   ]
  },
  {
   "cell_type": "markdown",
   "metadata": {},
   "source": [
    "### Calculando Recomendações"
   ]
  },
  {
   "cell_type": "code",
   "execution_count": 3,
   "metadata": {},
   "outputs": [],
   "source": [
    "# Constants\n",
    "action_type = 1\n",
    "attributes = ['source_item_id']\n",
    "min_occurrence = 2\n",
    "max_recommendations = 200"
   ]
  },
  {
   "cell_type": "code",
   "execution_count": 4,
   "metadata": {},
   "outputs": [
    {
     "name": "stdout",
     "output_type": "stream",
     "text": [
      "root\n",
      " |-- Unnamed: 0: long (nullable = true)\n",
      " |-- customer_id: string (nullable = true)\n",
      " |-- product_id: string (nullable = true)\n",
      " |-- action_id: long (nullable = true)\n",
      " |-- timestamp: double (nullable = true)\n",
      "\n"
     ]
    }
   ],
   "source": [
    "# Carregando Datasets\n",
    "actions = spark.createDataFrame(\n",
    "    pd.read_csv(\"../datasets/interactions.csv\")\n",
    ")\n",
    "actions.printSchema()"
   ]
  },
  {
   "cell_type": "code",
   "execution_count": 5,
   "metadata": {},
   "outputs": [],
   "source": [
    "# Inputs\n",
    "source_actions = actions.filter(actions.action_id == action_type).alias(\n",
    "    'source'\n",
    ")\n",
    "target_actions = actions.filter(actions.action_id == action_type).alias(\n",
    "    'target'\n",
    ")\n",
    "\n",
    "raw_recommendations = (\n",
    "    source_actions.join(target_actions, 'customer_id', 'inner')\n",
    "    .filter('source.product_id <> target.product_id')\n",
    "    .groupBy('source.product_id', 'target.product_id')\n",
    "    .count()\n",
    "    .filter(col('count') > min_occurrence)\n",
    "    .selectExpr(\n",
    "        'source.product_id as source_item_id',\n",
    "        'target.product_id as recommended_item_id',\n",
    "        'count as score',\n",
    "    )\n",
    ")"
   ]
  },
  {
   "cell_type": "markdown",
   "metadata": {},
   "source": [
    "### Recomendação de Conteúdo para o Usuário"
   ]
  },
  {
   "cell_type": "code",
   "execution_count": 6,
   "metadata": {},
   "outputs": [],
   "source": [
    "# Filter recommendations\n",
    "window = Window.partitionBy(*attributes).orderBy(\n",
    "    raw_recommendations.score.cast(DoubleType()).desc()\n",
    ")\n",
    "limit_recommendations = raw_recommendations.withColumn(\n",
    "    'rank', dense_rank().over(window)\n",
    ").filter(f'rank <= {max_recommendations}')"
   ]
  },
  {
   "cell_type": "code",
   "execution_count": 7,
   "metadata": {},
   "outputs": [],
   "source": [
    "# Groub by recommendations\n",
    "group_by = limit_recommendations.groupBy(*attributes)\n",
    "group_recommendations = group_by.agg(\n",
    "    collect_set(\n",
    "        struct(\n",
    "            limit_recommendations.recommended_item_id,\n",
    "            limit_recommendations.score.cast(DoubleType()).alias('score'),\n",
    "        )\n",
    "    ).alias('recommendations')\n",
    ")"
   ]
  },
  {
   "cell_type": "code",
   "execution_count": 8,
   "metadata": {},
   "outputs": [
    {
     "name": "stdout",
     "output_type": "stream",
     "text": [
      "+--------------+--------------------+\n",
      "|source_item_id|     recommendations|\n",
      "+--------------+--------------------+\n",
      "|      Dce730CE|[[39D90E8F, 1351....|\n",
      "|      a827F4CD|[[2E305BAe, 1547....|\n",
      "|      24d1E961|[[4b15bf94, 1517....|\n",
      "|      aFaAe1F4|[[CCcd595A, 1464....|\n",
      "|      3cDfe90c|[[FA1CacBa, 1465....|\n",
      "|      CCcd595A|[[BfDd34cA, 1431....|\n",
      "|      e895dE1F|[[03cd416f, 1503....|\n",
      "|      DFcAD8bB|[[5cFCEC19, 1471....|\n",
      "|      B2CBd81B|[[99E50C86, 1488....|\n",
      "|      bEDFB29C|[[d596D579, 1465....|\n",
      "|      cDF93A2f|[[d0E68bDD, 1499....|\n",
      "|      a2b9FfdB|[[2E305BAe, 1424....|\n",
      "|      Fa0FeA74|[[F3aCFE4f, 1484....|\n",
      "|      c47DeCf5|[[60cDbc95, 1304....|\n",
      "|      d0E68bDD|[[a71bB9E3, 1410....|\n",
      "|      42D0EBaF|[[9af8e012, 1491....|\n",
      "|      20DD1ea3|[[dfe00AC7, 1488....|\n",
      "|      8BABfAcE|[[11e0bdf8, 1470....|\n",
      "|      A8312a0A|[[faeDe05d, 1347....|\n",
      "|      0dd89C7A|[[dfe00AC7, 1385....|\n",
      "+--------------+--------------------+\n",
      "only showing top 20 rows\n",
      "\n"
     ]
    }
   ],
   "source": [
    "# Recommended User Product\n",
    "group_recommendations.show()"
   ]
  },
  {
   "cell_type": "code",
   "execution_count": 9,
   "metadata": {},
   "outputs": [],
   "source": [
    "partition = 20 # Numero de arquivos (Partiçoes) geradas\n",
    "group_recommendations.repartition(partition)\\\n",
    "    .write.mode(\"overwrite\")\\\n",
    "    .parquet(\"/tmp/recommendations_wxax\")"
   ]
  },
  {
   "cell_type": "code",
   "execution_count": 10,
   "metadata": {
    "scrolled": true
   },
   "outputs": [
    {
     "name": "stdout",
     "output_type": "stream",
     "text": [
      " \r\n",
      "4,6K part-00000-e65af357-04ed-4af0-8904-f5596bd56250-c000.snappy.parquet\r\n",
      "3,2K part-00001-e65af357-04ed-4af0-8904-f5596bd56250-c000.snappy.parquet\r\n",
      "3,9K part-00002-e65af357-04ed-4af0-8904-f5596bd56250-c000.snappy.parquet\r\n",
      "3,8K part-00003-e65af357-04ed-4af0-8904-f5596bd56250-c000.snappy.parquet\r\n",
      "3,5K part-00004-e65af357-04ed-4af0-8904-f5596bd56250-c000.snappy.parquet\r\n",
      "4,4K part-00005-e65af357-04ed-4af0-8904-f5596bd56250-c000.snappy.parquet\r\n",
      "4,1K part-00006-e65af357-04ed-4af0-8904-f5596bd56250-c000.snappy.parquet\r\n",
      "4,3K part-00007-e65af357-04ed-4af0-8904-f5596bd56250-c000.snappy.parquet\r\n",
      "4,0K part-00008-e65af357-04ed-4af0-8904-f5596bd56250-c000.snappy.parquet\r\n",
      "3,5K part-00009-e65af357-04ed-4af0-8904-f5596bd56250-c000.snappy.parquet\r\n",
      "5,0K part-00010-e65af357-04ed-4af0-8904-f5596bd56250-c000.snappy.parquet\r\n",
      "3,9K part-00011-e65af357-04ed-4af0-8904-f5596bd56250-c000.snappy.parquet\r\n",
      "3,9K part-00012-e65af357-04ed-4af0-8904-f5596bd56250-c000.snappy.parquet\r\n",
      "4,1K part-00013-e65af357-04ed-4af0-8904-f5596bd56250-c000.snappy.parquet\r\n",
      "5,3K part-00014-e65af357-04ed-4af0-8904-f5596bd56250-c000.snappy.parquet\r\n",
      "3,5K part-00015-e65af357-04ed-4af0-8904-f5596bd56250-c000.snappy.parquet\r\n",
      "3,8K part-00016-e65af357-04ed-4af0-8904-f5596bd56250-c000.snappy.parquet\r\n",
      "4,6K part-00017-e65af357-04ed-4af0-8904-f5596bd56250-c000.snappy.parquet\r\n",
      "4,0K part-00018-e65af357-04ed-4af0-8904-f5596bd56250-c000.snappy.parquet\r\n",
      "3,8K part-00019-e65af357-04ed-4af0-8904-f5596bd56250-c000.snappy.parquet\r\n",
      "0 _SUCCESS\r\n"
     ]
    }
   ],
   "source": [
    "! ls -lhs /tmp/recommendations_wxax/ | awk '{print $6,$10}'"
   ]
  }
 ],
 "metadata": {
  "kernelspec": {
   "display_name": "python-brasil",
   "language": "python",
   "name": "python-brasil"
  },
  "language_info": {
   "codemirror_mode": {
    "name": "ipython",
    "version": 3
   },
   "file_extension": ".py",
   "mimetype": "text/x-python",
   "name": "python",
   "nbconvert_exporter": "python",
   "pygments_lexer": "ipython3",
   "version": "3.7.7"
  }
 },
 "nbformat": 4,
 "nbformat_minor": 2
}
